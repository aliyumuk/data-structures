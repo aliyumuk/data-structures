{
 "cells": [
  {
   "cell_type": "code",
   "execution_count": 158,
   "metadata": {},
   "outputs": [],
   "source": [
    "class Node:\n",
    "    def __init__(self, data, next=None):\n",
    "        self.data = data\n",
    "        self.next = next"
   ]
  },
  {
   "cell_type": "code",
   "execution_count": 159,
   "metadata": {},
   "outputs": [],
   "source": [
    "class LinkedList:\n",
    "    def __init__(self):\n",
    "        self.head = None\n",
    "        self.tail = None\n",
    "        self.length: int = 0\n",
    "        print(\"Linked list was created.\")\n",
    "\n",
    "    def insert(self, data, insert_at = None):\n",
    "        new_node = Node(data)\n",
    "        if insert_at is None:\n",
    "            if self.head:\n",
    "                self.tail.next = new_node\n",
    "                self.tail = self.tail.next\n",
    "                self.length += 1\n",
    "                print(self.tail.data, \"was inserted at the end of the list.\")\n",
    "            else:\n",
    "                self.head = new_node\n",
    "                self.tail = new_node\n",
    "                self.length = 1\n",
    "                print(self.head.data, \"was inserted as head of the list.\")\n",
    "        elif insert_at == 0:\n",
    "            new_node.next = self.head\n",
    "            self.head = new_node\n",
    "            self.length += 1\n",
    "            print(self.head.data, \"was inserted as head of the list.\")\n",
    "        else:\n",
    "            if insert_at > self.length:\n",
    "                print(\"The linked list is smaller than\", str(insert_at) + '.', end=' ')\n",
    "                self.insert(data)\n",
    "            elif insert_at == self.length:\n",
    "                self.insert(data)\n",
    "            else:              \n",
    "                temp = self.head\n",
    "                for i in range(insert_at-1):\n",
    "                    temp = temp.next\n",
    "                new_node.next = temp.next\n",
    "                temp.next = new_node\n",
    "                self.length += 1\n",
    "                print(data, \"was inserted as element\", (insert_at))\n",
    "                \n",
    "    def delete(self, position):\n",
    "        if self.head:\n",
    "            if position == 0:\n",
    "                value = self.head.data\n",
    "                self.head = self.head.next\n",
    "                self.length -= 1\n",
    "                print(value, \"was deleted from the list.\")\n",
    "                return value\n",
    "            else:\n",
    "                current = self.head\n",
    "                for i in range(position-1):\n",
    "                    current = current.next\n",
    "                    if current is None:\n",
    "                        break\n",
    "                if current is None:\n",
    "                    return\n",
    "                if current.next is None:\n",
    "                    return\n",
    "                value = current.next.data\n",
    "                next = current.next.next\n",
    "                current.next = next\n",
    "                self.length -= 1\n",
    "                print(value, \"was deleted from the list.\")\n",
    "                return value\n",
    "        else:\n",
    "            print(\"Linked list is already empty. Item could not be deleted.\")\n",
    "        #print(i)\n",
    "\n",
    "    def print(self):\n",
    "        if self.head is None:\n",
    "            print(\"Linked list is empty.\")\n",
    "        temp = self.head\n",
    "        while temp:\n",
    "            print(temp.data, end=' ')\n",
    "            if temp.next:\n",
    "                print('-> ', end='')\n",
    "            temp = temp.next\n",
    "        print('\\r')\n",
    "\n",
    "    def getNode(self, index):\n",
    "        if index <= self.length - 1:\n",
    "            if self.head is None:\n",
    "                print(\"Linked list is empty.\")\n",
    "            else:\n",
    "                temp = self.head\n",
    "                for i in range(index):\n",
    "                    temp = temp.next\n",
    "                print(\"The element in index\", index, \"is\", temp.data)\n",
    "                return temp.data\n",
    "        else:\n",
    "            print(\"Index is out of the range of the list.\")\n",
    "\n",
    "    def sort(self):\n",
    "        #bubble sort\n",
    "        if self.head is None or self.head.next is None:\n",
    "            print(\"List is not long enough to be sorted.\")\n",
    "            return\n",
    "        else:\n",
    "            current = self.head\n",
    "            while current:\n",
    "                next = current.next\n",
    "                while next:\n",
    "                    if current.data > next.data:\n",
    "                        temp = current.data\n",
    "                        current.data = next.data\n",
    "                        next.data = temp\n",
    "                    next = next.next\n",
    "                current = current.next"
   ]
  },
  {
   "cell_type": "code",
   "execution_count": 160,
   "metadata": {},
   "outputs": [
    {
     "name": "stdout",
     "output_type": "stream",
     "text": [
      "2\n",
      "None\n"
     ]
    }
   ],
   "source": [
    "node = Node(2)\n",
    "print(node.data)\n",
    "print(node.next)"
   ]
  },
  {
   "cell_type": "code",
   "execution_count": 161,
   "metadata": {},
   "outputs": [
    {
     "name": "stdout",
     "output_type": "stream",
     "text": [
      "Linked list was created.\n",
      "4 was inserted as head of the list.\n",
      "4 \n",
      "2 was inserted at the end of the list.\n",
      "The linked list is smaller than 5. 3 was inserted at the end of the list.\n",
      "4 -> 2 -> 3 \n"
     ]
    }
   ],
   "source": [
    "myLL = LinkedList()\n",
    "myLL.insert(4)\n",
    "myLL.print()\n",
    "myLL.insert(2)\n",
    "myLL.insert(3,5)\n",
    "myLL.print()\n"
   ]
  },
  {
   "cell_type": "code",
   "execution_count": 162,
   "metadata": {},
   "outputs": [
    {
     "name": "stdout",
     "output_type": "stream",
     "text": [
      "8 was inserted as head of the list.\n",
      "8 -> 4 -> 2 -> 3 \n",
      "1 was inserted as element 3\n",
      "8 -> 4 -> 2 -> 1 -> 3 \n"
     ]
    }
   ],
   "source": [
    "myLL.insert(8, 0)\n",
    "myLL.print()\n",
    "myLL.insert(1, 3)\n",
    "myLL.print()"
   ]
  },
  {
   "cell_type": "code",
   "execution_count": 163,
   "metadata": {},
   "outputs": [
    {
     "name": "stdout",
     "output_type": "stream",
     "text": [
      "0 was inserted as element 1\n",
      "8 -> 0 -> 4 -> 2 -> 1 -> 3 \n"
     ]
    }
   ],
   "source": [
    "myLL.insert(0, 1)\n",
    "myLL.print()\n"
   ]
  },
  {
   "cell_type": "code",
   "execution_count": 164,
   "metadata": {},
   "outputs": [
    {
     "name": "stdout",
     "output_type": "stream",
     "text": [
      "The linked list is smaller than 7. 12 was inserted at the end of the list.\n",
      "8 -> 0 -> 4 -> 2 -> 1 -> 3 -> 12 \n"
     ]
    }
   ],
   "source": [
    "myLL.insert(12, 7)\n",
    "myLL.print()"
   ]
  },
  {
   "cell_type": "code",
   "execution_count": 165,
   "metadata": {},
   "outputs": [
    {
     "name": "stdout",
     "output_type": "stream",
     "text": [
      "5 was inserted at the end of the list.\n",
      "8 -> 0 -> 4 -> 2 -> 1 -> 3 -> 12 -> 5 \n"
     ]
    }
   ],
   "source": [
    "myLL.insert(5, 7)\n",
    "myLL.print()\n"
   ]
  },
  {
   "cell_type": "code",
   "execution_count": 166,
   "metadata": {},
   "outputs": [
    {
     "name": "stdout",
     "output_type": "stream",
     "text": [
      "0 -> 1 -> 2 -> 3 -> 4 -> 5 -> 8 -> 12 \n"
     ]
    }
   ],
   "source": [
    "myLL.sort()\n",
    "myLL.print()"
   ]
  },
  {
   "cell_type": "code",
   "execution_count": 167,
   "metadata": {},
   "outputs": [
    {
     "name": "stdout",
     "output_type": "stream",
     "text": [
      "8\n",
      "3 was deleted from the list.\n",
      "0 -> 1 -> 2 -> 4 -> 5 -> 8 -> 12 \n",
      "7\n"
     ]
    }
   ],
   "source": [
    "print(myLL.length)\n",
    "myLL.delete(3)\n",
    "myLL.print()\n",
    "print(myLL.length)"
   ]
  },
  {
   "cell_type": "code",
   "execution_count": 168,
   "metadata": {},
   "outputs": [
    {
     "name": "stdout",
     "output_type": "stream",
     "text": [
      "1 was deleted from the list.\n",
      "0 -> 2 -> 4 -> 5 -> 8 -> 12 \n",
      "0 was deleted from the list.\n",
      "2 -> 4 -> 5 -> 8 -> 12 \n",
      "12 was deleted from the list.\n",
      "2 -> 4 -> 5 -> 8 \n"
     ]
    }
   ],
   "source": [
    "myLL.delete(1)\n",
    "myLL.print()\n",
    "myLL.delete(0)\n",
    "myLL.print()\n",
    "myLL.delete(4)\n",
    "myLL.print()\n",
    "\n"
   ]
  },
  {
   "cell_type": "code",
   "execution_count": 169,
   "metadata": {},
   "outputs": [
    {
     "name": "stdout",
     "output_type": "stream",
     "text": [
      "The element in index 0 is 2\n",
      "The element in index 1 is 4\n",
      "The element in index 2 is 5\n",
      "The element in index 3 is 8\n",
      "Index is out of the range of the list.\n",
      "Index is out of the range of the list.\n"
     ]
    }
   ],
   "source": [
    "myLL.getNode(0)\n",
    "myLL.getNode(1)\n",
    "myLL.getNode(2)\n",
    "myLL.getNode(3)\n",
    "myLL.getNode(4)\n",
    "myLL.getNode(5)\n"
   ]
  },
  {
   "cell_type": "code",
   "execution_count": 170,
   "metadata": {},
   "outputs": [
    {
     "name": "stdout",
     "output_type": "stream",
     "text": [
      "2 was deleted from the list.\n",
      "4 was deleted from the list.\n",
      "5 was deleted from the list.\n",
      "8 was deleted from the list.\n",
      "Linked list is already empty. Item could not be deleted.\n"
     ]
    }
   ],
   "source": [
    "myLL.delete(0)\n",
    "myLL.delete(0)\n",
    "myLL.delete(0)\n",
    "myLL.delete(0)\n",
    "myLL.delete(0)\n"
   ]
  },
  {
   "cell_type": "code",
   "execution_count": 171,
   "metadata": {},
   "outputs": [
    {
     "name": "stdout",
     "output_type": "stream",
     "text": [
      "Linked list is empty.\n",
      "\n",
      "6 was inserted as head of the list.\n",
      "List is not long enough to be sorted.\n",
      "5 was inserted at the end of the list.\n",
      "5 -> 6 \n"
     ]
    }
   ],
   "source": [
    "myLL.print()\n",
    "myLL.insert(6)\n",
    "myLL.sort()\n",
    "myLL.insert(5)\n",
    "myLL.sort()\n",
    "myLL.print()\n"
   ]
  }
 ],
 "metadata": {
  "kernelspec": {
   "display_name": "Python 3.9.6 64-bit",
   "language": "python",
   "name": "python3"
  },
  "language_info": {
   "codemirror_mode": {
    "name": "ipython",
    "version": 3
   },
   "file_extension": ".py",
   "mimetype": "text/x-python",
   "name": "python",
   "nbconvert_exporter": "python",
   "pygments_lexer": "ipython3",
   "version": "3.9.6"
  },
  "orig_nbformat": 4,
  "vscode": {
   "interpreter": {
    "hash": "fbcee69e164f5fd11cffaed2653d6ddc56118232375aa119ac59dd9680d154af"
   }
  }
 },
 "nbformat": 4,
 "nbformat_minor": 2
}
