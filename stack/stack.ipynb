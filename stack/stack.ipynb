{
 "cells": [
  {
   "cell_type": "code",
   "execution_count": null,
   "metadata": {},
   "outputs": [],
   "source": [
    "print(\"dene\")\n",
    "print(\"dene2\")"
   ]
  }
 ],
 "metadata": {
  "kernelspec": {
   "display_name": "Python 3.9.6 64-bit",
   "language": "python",
   "name": "python3"
  },
  "language_info": {
   "name": "python",
   "version": "3.9.6"
  },
  "orig_nbformat": 4,
  "vscode": {
   "interpreter": {
    "hash": "fbcee69e164f5fd11cffaed2653d6ddc56118232375aa119ac59dd9680d154af"
   }
  }
 },
 "nbformat": 4,
 "nbformat_minor": 2
}
