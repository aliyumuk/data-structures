{
 "cells": [
  {
   "cell_type": "code",
   "execution_count": 81,
   "metadata": {},
   "outputs": [],
   "source": [
    "# Stack class implementation \n",
    "class Stack:\n",
    "    def __init__(self, limit) -> None:\n",
    "        self.arr = [None] * limit\n",
    "        self.capacity = limit\n",
    "        self.top = -1\n",
    "    def size(self):\n",
    "        return self.top+1\n",
    "    def isFull(self):\n",
    "        return self.size() >= self.capacity\n",
    "    def isEmpty(self):\n",
    "        return self.top == -1\n",
    "    def push(self, value):\n",
    "        if self.isFull():\n",
    "            print(\"Stack is full!\")\n",
    "        else:\n",
    "            self.top = self.top + 1\n",
    "            self.arr[self.top] = value    \n",
    "    def pop(self):\n",
    "        if self.isEmpty():\n",
    "            print('Stack is empty!')\n",
    "        else:\n",
    "            top = self.arr[self.top]\n",
    "            self.top = self.top - 1\n",
    "            return top\n",
    "    def peek(self):\n",
    "        if self.isEmpty():\n",
    "            print(\"Stack is empty!\")\n",
    "        else:\n",
    "            return self.arr[self.top]"
   ]
  },
  {
   "cell_type": "code",
   "execution_count": 82,
   "metadata": {},
   "outputs": [
    {
     "name": "stdout",
     "output_type": "stream",
     "text": [
      "Capacitiy of stack is:  3\n",
      "Top of stack is:  -1\n",
      "Size of stack is:  0\n",
      "Is it empty:  True\n",
      "Is it full:  False\n",
      "Stack is empty!\n"
     ]
    }
   ],
   "source": [
    "\n",
    "# Main operations\n",
    "stack = Stack(3)\n",
    "print(\"Capacitiy of stack is: \", stack.capacity)\n",
    "print(\"Top of stack is: \", stack.top)\n",
    "print(\"Size of stack is: \", stack.size())\n",
    "print(\"Is it empty: \", stack.isEmpty())\n",
    "print(\"Is it full: \", stack.isFull())\n",
    "stack.pop()"
   ]
  },
  {
   "cell_type": "code",
   "execution_count": 83,
   "metadata": {},
   "outputs": [
    {
     "name": "stdout",
     "output_type": "stream",
     "text": [
      "Top of stack is:  1\n",
      "Size of stack is:  2\n",
      "Is it empty:  False\n",
      "Is it full:  False\n"
     ]
    }
   ],
   "source": [
    "\n",
    "stack.push(1)\n",
    "stack.push(2)\n",
    "print(\"Top of stack is: \", stack.top)\n",
    "print(\"Size of stack is: \", stack.size())\n",
    "print(\"Is it empty: \", stack.isEmpty())\n",
    "print(\"Is it full: \", stack.isFull())"
   ]
  },
  {
   "cell_type": "code",
   "execution_count": 84,
   "metadata": {},
   "outputs": [
    {
     "name": "stdout",
     "output_type": "stream",
     "text": [
      "Top of stack is:  0\n",
      "Size of stack is:  1\n",
      "Is it empty:  False\n",
      "Is it full:  False\n"
     ]
    }
   ],
   "source": [
    "stack.pop()\n",
    "print(\"Top of stack is: \", stack.top)\n",
    "print(\"Size of stack is: \", stack.size())\n",
    "print(\"Is it empty: \", stack.isEmpty())\n",
    "print(\"Is it full: \", stack.isFull())"
   ]
  },
  {
   "cell_type": "code",
   "execution_count": 85,
   "metadata": {},
   "outputs": [
    {
     "name": "stdout",
     "output_type": "stream",
     "text": [
      "Stack is full!\n",
      "3\n",
      "Top of stack is:  2\n",
      "Size of stack is:  3\n",
      "Is it empty:  False\n",
      "Is it full:  True\n",
      "[1, 2, 3]\n"
     ]
    }
   ],
   "source": [
    "stack.push(2)\n",
    "stack.push(3)\n",
    "stack.push(4)\n",
    "print(stack.peek())\n",
    "print(\"Top of stack is: \", stack.top)\n",
    "print(\"Size of stack is: \", stack.size())\n",
    "print(\"Is it empty: \", stack.isEmpty())\n",
    "print(\"Is it full: \", stack.isFull())\n",
    "print(stack.arr)"
   ]
  }
 ],
 "metadata": {
  "kernelspec": {
   "display_name": "Python 3.9.6 64-bit",
   "language": "python",
   "name": "python3"
  },
  "language_info": {
   "codemirror_mode": {
    "name": "ipython",
    "version": 3
   },
   "file_extension": ".py",
   "mimetype": "text/x-python",
   "name": "python",
   "nbconvert_exporter": "python",
   "pygments_lexer": "ipython3",
   "version": "3.9.6"
  },
  "orig_nbformat": 4,
  "vscode": {
   "interpreter": {
    "hash": "fbcee69e164f5fd11cffaed2653d6ddc56118232375aa119ac59dd9680d154af"
   }
  }
 },
 "nbformat": 4,
 "nbformat_minor": 2
}
