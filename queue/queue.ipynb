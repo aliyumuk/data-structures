{
 "cells": [
  {
   "cell_type": "code",
   "execution_count": 96,
   "metadata": {},
   "outputs": [],
   "source": [
    "class Queue:\n",
    "    def __init__(self, limit) -> None:\n",
    "        self.arr = [None]*limit\n",
    "        self.front = -1\n",
    "        self.rear = -1\n",
    "        self.capacity = limit\n",
    "    def size(self):\n",
    "        return self.rear - self.front + 1\n",
    "    def isEmpty(self):\n",
    "        return self.front == -1\n",
    "    def isFull(self):\n",
    "        return self.rear + 1 == self.capacity\n",
    "    def enqueue(self, value):\n",
    "        if self.isFull():\n",
    "            print(\"Queue is full!\")\n",
    "        else:\n",
    "            if self.isEmpty():\n",
    "                self.front = 0\n",
    "            self.rear = self.rear + 1\n",
    "            self.arr[self.rear] = value\n",
    "    def dequeue(self):\n",
    "        if self.isEmpty():\n",
    "            print(\"Queue is empty!\")\n",
    "        else:\n",
    "            value = self.arr[self.front]\n",
    "            self.front = self.front + 1\n",
    "            if self.front > self.rear:\n",
    "                self.front = -1\n",
    "                self.rear = -1\n",
    "            return value\n",
    "    def peek(self):\n",
    "        if self.isEmpty():\n",
    "            print(\"Queue is empty!\")\n",
    "        else:\n",
    "            return self.arr[self.front]\n",
    "            \n",
    "\n"
   ]
  },
  {
   "cell_type": "code",
   "execution_count": 97,
   "metadata": {},
   "outputs": [
    {
     "name": "stdout",
     "output_type": "stream",
     "text": [
      "[None, None, None]\n"
     ]
    }
   ],
   "source": [
    "# Test cases\n",
    "myQueue = Queue(3)\n",
    "print(myQueue.arr)\n"
   ]
  },
  {
   "cell_type": "code",
   "execution_count": 98,
   "metadata": {},
   "outputs": [
    {
     "name": "stdout",
     "output_type": "stream",
     "text": [
      "[9, None, None]\n"
     ]
    }
   ],
   "source": [
    "myQueue.enqueue(9)\n",
    "print(myQueue.arr)\n"
   ]
  },
  {
   "cell_type": "code",
   "execution_count": 99,
   "metadata": {},
   "outputs": [
    {
     "name": "stdout",
     "output_type": "stream",
     "text": [
      "[9, 8, 7]\n"
     ]
    }
   ],
   "source": [
    "myQueue.enqueue(8)\n",
    "myQueue.enqueue(7)\n",
    "print(myQueue.arr)\n"
   ]
  },
  {
   "cell_type": "code",
   "execution_count": 100,
   "metadata": {},
   "outputs": [
    {
     "name": "stdout",
     "output_type": "stream",
     "text": [
      "Queue is full!\n",
      "[9, 8, 7]\n"
     ]
    }
   ],
   "source": [
    "myQueue.enqueue(6)\n",
    "print(myQueue.arr)\n"
   ]
  },
  {
   "cell_type": "code",
   "execution_count": 101,
   "metadata": {},
   "outputs": [
    {
     "name": "stdout",
     "output_type": "stream",
     "text": [
      "9\n",
      "8\n",
      "[9, 8, 7]\n"
     ]
    }
   ],
   "source": [
    "print(myQueue.dequeue())\n",
    "print(myQueue.dequeue())\n",
    "print(myQueue.arr)\n"
   ]
  },
  {
   "cell_type": "code",
   "execution_count": 102,
   "metadata": {},
   "outputs": [
    {
     "name": "stdout",
     "output_type": "stream",
     "text": [
      "7\n",
      "[9, 8, 7]\n"
     ]
    }
   ],
   "source": [
    "print(myQueue.dequeue())\n",
    "print(myQueue.arr)\n"
   ]
  },
  {
   "cell_type": "code",
   "execution_count": 103,
   "metadata": {},
   "outputs": [
    {
     "name": "stdout",
     "output_type": "stream",
     "text": [
      "[3, 8, 7]\n"
     ]
    }
   ],
   "source": [
    "myQueue.enqueue(3)\n",
    "print(myQueue.arr)\n"
   ]
  },
  {
   "cell_type": "code",
   "execution_count": 104,
   "metadata": {},
   "outputs": [
    {
     "name": "stdout",
     "output_type": "stream",
     "text": [
      "3\n",
      "Queue is empty!\n",
      "None\n",
      "[3, 8, 7]\n"
     ]
    }
   ],
   "source": [
    "print(myQueue.dequeue())\n",
    "print(myQueue.dequeue())\n",
    "print(myQueue.arr)\n"
   ]
  },
  {
   "cell_type": "code",
   "execution_count": 105,
   "metadata": {},
   "outputs": [
    {
     "name": "stdout",
     "output_type": "stream",
     "text": [
      "[1, 2, 7]\n",
      "1\n",
      "2\n"
     ]
    }
   ],
   "source": [
    "myQueue.enqueue(1)\n",
    "myQueue.enqueue(2)\n",
    "print(myQueue.arr)\n",
    "print(myQueue.peek())\n",
    "print(myQueue.size())\n"
   ]
  },
  {
   "cell_type": "code",
   "execution_count": 106,
   "metadata": {},
   "outputs": [
    {
     "name": "stdout",
     "output_type": "stream",
     "text": [
      "[1, 2, 7]\n",
      "1\n"
     ]
    }
   ],
   "source": [
    "myQueue.dequeue()\n",
    "print(myQueue.arr)\n",
    "print(myQueue.size())"
   ]
  }
 ],
 "metadata": {
  "kernelspec": {
   "display_name": "Python 3.9.6 64-bit",
   "language": "python",
   "name": "python3"
  },
  "language_info": {
   "codemirror_mode": {
    "name": "ipython",
    "version": 3
   },
   "file_extension": ".py",
   "mimetype": "text/x-python",
   "name": "python",
   "nbconvert_exporter": "python",
   "pygments_lexer": "ipython3",
   "version": "3.9.6"
  },
  "orig_nbformat": 4,
  "vscode": {
   "interpreter": {
    "hash": "fbcee69e164f5fd11cffaed2653d6ddc56118232375aa119ac59dd9680d154af"
   }
  }
 },
 "nbformat": 4,
 "nbformat_minor": 2
}
