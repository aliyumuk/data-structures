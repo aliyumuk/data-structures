{
 "cells": [
  {
   "cell_type": "code",
   "execution_count": 6,
   "metadata": {},
   "outputs": [
    {
     "data": {
      "text/plain": [
       "3"
      ]
     },
     "execution_count": 6,
     "metadata": {},
     "output_type": "execute_result"
    }
   ],
   "source": [
    "hash(3)"
   ]
  },
  {
   "cell_type": "code",
   "execution_count": 7,
   "metadata": {},
   "outputs": [
    {
     "data": {
      "text/plain": [
       "763755889145579568"
      ]
     },
     "execution_count": 7,
     "metadata": {},
     "output_type": "execute_result"
    }
   ],
   "source": [
    "hash(\"abc\")"
   ]
  },
  {
   "cell_type": "code",
   "execution_count": 8,
   "metadata": {},
   "outputs": [
    {
     "data": {
      "text/plain": [
       "322818021289917443"
      ]
     },
     "execution_count": 8,
     "metadata": {},
     "output_type": "execute_result"
    }
   ],
   "source": [
    "hash(3.14)"
   ]
  },
  {
   "cell_type": "code",
   "execution_count": 9,
   "metadata": {},
   "outputs": [
    {
     "data": {
      "text/plain": [
       "9087435843061019230"
      ]
     },
     "execution_count": 9,
     "metadata": {},
     "output_type": "execute_result"
    }
   ],
   "source": [
    "hash(\"Lorem ipsum dolor sit amet, consectetur adipisicing elit,\"\n",
    "     \"sed do eiusmod tempor incididunt ut labore et dolore magna\"\n",
    "     \"aliqua. Ut enim ad minim veniam, quis nostrud exercitation\"\n",
    "     \"ullamco laboris nisi ut aliquip ex ea commodo consequat.\"\n",
    "     \"Duis aute irure dolor in reprehenderit in voluptate velit\"\n",
    "     \"esse cillum dolore eu fugiat nulla pariatur. Excepteur sint\"\n",
    "     \"occaecat cupidatat non proident, sunt in culpa qui officia\"\n",
    "     \"deserunt mollit anim id est laborum.\")\n"
   ]
  },
  {
   "cell_type": "code",
   "execution_count": 10,
   "metadata": {},
   "outputs": [
    {
     "data": {
      "text/plain": [
       "9087435843061019230"
      ]
     },
     "execution_count": 10,
     "metadata": {},
     "output_type": "execute_result"
    }
   ],
   "source": [
    "hash(\"Lorem ipsum dolor sit amet, consectetur adipisicing elit,\"\n",
    "     \"sed do eiusmod tempor incididunt ut labore et dolore magna\"\n",
    "     \"aliqua. Ut enim ad minim veniam, quis nostrud exercitation\"\n",
    "     \"ullamco laboris nisi ut aliquip ex ea commodo consequat.\"\n",
    "     \"Duis aute irure dolor in reprehenderit in voluptate velit\"\n",
    "     \"esse cillum dolore eu fugiat nulla pariatur. Excepteur sint\"\n",
    "     \"occaecat cupidatat non proident, sunt in culpa qui officia\"\n",
    "     \"deserunt mollit anim id est laborum.\")\n"
   ]
  }
 ],
 "metadata": {
  "kernelspec": {
   "display_name": "Python 3.9.6 64-bit",
   "language": "python",
   "name": "python3"
  },
  "language_info": {
   "codemirror_mode": {
    "name": "ipython",
    "version": 3
   },
   "file_extension": ".py",
   "mimetype": "text/x-python",
   "name": "python",
   "nbconvert_exporter": "python",
   "pygments_lexer": "ipython3",
   "version": "3.9.6"
  },
  "orig_nbformat": 4,
  "vscode": {
   "interpreter": {
    "hash": "fbcee69e164f5fd11cffaed2653d6ddc56118232375aa119ac59dd9680d154af"
   }
  }
 },
 "nbformat": 4,
 "nbformat_minor": 2
}
