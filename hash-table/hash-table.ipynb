{
 "cells": [
  {
   "cell_type": "code",
   "execution_count": 63,
   "metadata": {},
   "outputs": [],
   "source": [
    "# Without collusion handling\n",
    "\n",
    "class HashTable:\n",
    "    def __init__(self, size):\n",
    "        self.size = size\n",
    "        self.table = [[] for i in range(self.size)]\n",
    "    def insert(self, key, value):\n",
    "        hashed_key = hash(key) % self.size\n",
    "        bucket = self.table[hashed_key]\n",
    "\n",
    "        is_key_found = False\n",
    "        for record in bucket:\n",
    "            record_key = record[0]\n",
    "            if record_key == key:\n",
    "                is_key_found = True\n",
    "                break\n",
    "        if is_key_found:\n",
    "            # bucket[index] = (key, value)\n",
    "            print(\"Collusion! The key value pair wasn't inserted.\")\n",
    "        else:\n",
    "            bucket.append((key, value))\n",
    "    def get(self, key):\n",
    "        hashed_key = hash(key) % self.size\n",
    "        bucket = self.table[hashed_key]\n",
    "\n",
    "        is_key_found = False\n",
    "        for record in bucket:\n",
    "            record_key = record[0]\n",
    "            if record_key == key:\n",
    "                is_key_found = True\n",
    "                break\n",
    "        if is_key_found:\n",
    "            return record[1]             \n",
    "        else:\n",
    "            print(\"The key couldn't be found.\")\n",
    "\n",
    "    def delete(self, key):\n",
    "        hashed_key = hash(key) % self.size\n",
    "        bucket = self.table[hashed_key]\n",
    "\n",
    "        is_key_found = False\n",
    "        for index, record in enumerate(bucket):\n",
    "            record_key = record[0]\n",
    "            if record_key == key:\n",
    "                is_key_found = True\n",
    "                break\n",
    "        if is_key_found:\n",
    "            return bucket.pop(index)             \n",
    "        else:\n",
    "            print(\"The key couldn't be found. Hence couldn't be deleted.\")       "
   ]
  },
  {
   "cell_type": "code",
   "execution_count": 64,
   "metadata": {},
   "outputs": [
    {
     "name": "stdout",
     "output_type": "stream",
     "text": [
      "[[], [], [], [], [], [], [], [], [], []]\n",
      "[[], [], [], [('Ali', 'King')], [], [], [], [], [], []]\n",
      "Collusion! The key value pair wasn't inserted.\n",
      "[[], [], [], [('Ali', 'King')], [], [], [], [], [], []]\n"
     ]
    }
   ],
   "source": [
    "myHT = HashTable(10)\n",
    "print(myHT.table)\n",
    "myHT.insert(\"Ali\", \"King\")\n",
    "print(myHT.table)\n",
    "myHT.insert(\"Ali\", \"xxx\")\n",
    "print(myHT.table)\n"
   ]
  },
  {
   "cell_type": "code",
   "execution_count": 65,
   "metadata": {},
   "outputs": [
    {
     "name": "stdout",
     "output_type": "stream",
     "text": [
      "[[], [], [], [], [], [], [], [], [], []]\n"
     ]
    }
   ],
   "source": [
    "myHT.get(\"Ali\")\n",
    "myHT.delete(\"Ali\")\n",
    "print(myHT.table)"
   ]
  }
 ],
 "metadata": {
  "kernelspec": {
   "display_name": "Python 3.9.6 64-bit",
   "language": "python",
   "name": "python3"
  },
  "language_info": {
   "codemirror_mode": {
    "name": "ipython",
    "version": 3
   },
   "file_extension": ".py",
   "mimetype": "text/x-python",
   "name": "python",
   "nbconvert_exporter": "python",
   "pygments_lexer": "ipython3",
   "version": "3.9.6"
  },
  "orig_nbformat": 4,
  "vscode": {
   "interpreter": {
    "hash": "fbcee69e164f5fd11cffaed2653d6ddc56118232375aa119ac59dd9680d154af"
   }
  }
 },
 "nbformat": 4,
 "nbformat_minor": 2
}
